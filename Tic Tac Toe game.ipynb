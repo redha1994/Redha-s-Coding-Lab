{
 "cells": [
  {
   "cell_type": "markdown",
   "metadata": {},
   "source": [
    "# TIC TAC TOE GAME"
   ]
  },
  {
   "cell_type": "markdown",
   "metadata": {},
   "source": [
    "**Step 1: Function that can print out a board.**"
   ]
  },
  {
   "cell_type": "code",
   "execution_count": 4,
   "metadata": {},
   "outputs": [],
   "source": [
    "from IPython.display import clear_output\n",
    "\n",
    "def display_board(board):\n",
    " \n",
    "    clear_output()\n",
    "    \n",
    "    print(board[1]+'  | '+board[2]+' | '+board[3])\n",
    "    print('---|---|---')\n",
    "    print(board[4]+'  | '+board[5]+' | '+board[6])\n",
    "    print('---|---|---')\n",
    "    print(board[7]+'  | '+board[8]+' | '+board[9])\n",
    "    "
   ]
  },
  {
   "cell_type": "markdown",
   "metadata": {},
   "source": [
    "**Step 2: Function that can take in a player input and assign their marker as 'X' or 'O'.**"
   ]
  },
  {
   "cell_type": "code",
   "execution_count": 5,
   "metadata": {},
   "outputs": [],
   "source": [
    "def player_input():\n",
    "    marker = ''\n",
    "    \n",
    "    while not(marker == 'X' or marker == 'O'):\n",
    "        \n",
    "        marker = input('Player 1: Do you want to be X or O? ')\n",
    "        \n",
    "        if marker == 'X':\n",
    "            return ('X','O')\n",
    "        else:\n",
    "            return ('O','X')"
   ]
  },
  {
   "cell_type": "markdown",
   "metadata": {},
   "source": [
    "**Step 3: Function that takes in the board list object, a marker ('X' or 'O'), and a desired position (number 1-9) and assigns it to the board.**"
   ]
  },
  {
   "cell_type": "code",
   "execution_count": 6,
   "metadata": {},
   "outputs": [],
   "source": [
    "def place_marker(board, marker, position):\n",
    "\n",
    "        board[position] = marker"
   ]
  },
  {
   "cell_type": "markdown",
   "metadata": {},
   "source": [
    "**Step 4: Function that takes in a board and a mark (X or O) and then checks to see if that mark has won.**"
   ]
  },
  {
   "cell_type": "code",
   "execution_count": 7,
   "metadata": {},
   "outputs": [],
   "source": [
    "def win_check(board, mark):\n",
    "    \n",
    "    return ((board[1] == board[2] == board[3] == mark) or\n",
    "            (board[4] == board[5] == board[6] == mark) or\n",
    "            (board[7] == board[8] == board[9] == mark) or \n",
    "            (board[1] == board[4] == board[7] == mark) or\n",
    "            (board[2] == board[5] == board[7] == mark) or\n",
    "            (board[3] == board[6] == board[9] == mark) or\n",
    "            (board[1] == board[5] == board[9] == mark) or\n",
    "            (board[3] == board[5] == board[7] == mark))"
   ]
  },
  {
   "cell_type": "markdown",
   "metadata": {},
   "source": [
    "**Step 5: Function that uses the random module to randomly decide which player goes first.**"
   ]
  },
  {
   "cell_type": "code",
   "execution_count": 8,
   "metadata": {},
   "outputs": [],
   "source": [
    "import random\n",
    "\n",
    "def choose_first():\n",
    "    \n",
    "    rand_num = random.randint(0,1)\n",
    "    \n",
    "    if rand_num == 0:\n",
    "        return 'Player 2'\n",
    "    else:\n",
    "        return 'Player 1'"
   ]
  },
  {
   "cell_type": "markdown",
   "metadata": {},
   "source": [
    "**Step 6: Function that returns a boolean indicating whether a space on the board is freely available.**"
   ]
  },
  {
   "cell_type": "code",
   "execution_count": 9,
   "metadata": {},
   "outputs": [],
   "source": [
    "def space_check(board, position):\n",
    "    \n",
    "    return board[position] == ' '"
   ]
  },
  {
   "cell_type": "markdown",
   "metadata": {},
   "source": [
    "**Step 7: Function that checks if the board is full and returns a boolean value. True if full, False otherwise.**"
   ]
  },
  {
   "cell_type": "code",
   "execution_count": 10,
   "metadata": {},
   "outputs": [],
   "source": [
    "def full_board_check(board):\n",
    "    \n",
    "    for marker in board:\n",
    "        if marker == ' ':\n",
    "            return False\n",
    "        \n",
    "    return True"
   ]
  },
  {
   "cell_type": "markdown",
   "metadata": {},
   "source": [
    "**Step 8: Function that asks for a player's next position (as a number 1-9) and then uses the function from step 6 to check if it's a free position.**"
   ]
  },
  {
   "cell_type": "code",
   "execution_count": 11,
   "metadata": {},
   "outputs": [],
   "source": [
    "def player_choice(board):\n",
    "    \n",
    "    while True:\n",
    "        \n",
    "        position = int(input(\"What's your next position? (1-9) \"))\n",
    "        \n",
    "        if position in range(1,10):\n",
    "            if not(space_check(board,position)): #if it's already full\n",
    "                print('This box is already full, pick another one')\n",
    "            else:\n",
    "                return position\n",
    "                break\n",
    "        else:\n",
    "            print('Pls, choose a position between 1 and 9')"
   ]
  },
  {
   "cell_type": "markdown",
   "metadata": {},
   "source": [
    "**Step 9: Function that asks the player if they want to play again and returns a boolean True if they do want to play again.**"
   ]
  },
  {
   "cell_type": "code",
   "execution_count": 12,
   "metadata": {},
   "outputs": [],
   "source": [
    "def replay():\n",
    "    \n",
    "        play_again = input('Would you like to play again? Enter yes or no\\n')\n",
    "\n",
    "        if play_again[0].lower() == 'y':\n",
    "            return True"
   ]
  },
  {
   "cell_type": "code",
   "execution_count": null,
   "metadata": {},
   "outputs": [
    {
     "name": "stdout",
     "output_type": "stream",
     "text": [
      "Welcome to Tic Tac Toe!\n"
     ]
    }
   ],
   "source": [
    "print('Welcome to Tic Tac Toe!')\n",
    "\n",
    "while True:\n",
    "    # Set the game up here \n",
    "    \n",
    "    #Define board, markers\n",
    "    board = ['#',' ',' ',' ',' ',' ',' ',' ',' ',' ']\n",
    "    (player1_marker, player2_marker) = player_input()\n",
    "    \n",
    "    # Randomly choose who's starting\n",
    "    turn = choose_first()\n",
    "    \n",
    "    # Ask if they're ready to play\n",
    "    ready = input('Are your ready? Enter Yes or No\\n')\n",
    "\n",
    "    if ready[0].lower() == 'y':\n",
    "        game_on = True\n",
    "    else:\n",
    "        print('Thanks!')\n",
    "        game_on = False\n",
    "    \n",
    "    while game_on:\n",
    "       \n",
    "        #Player 1 Turn\n",
    "        # Display board\n",
    "        display_board(board)\n",
    "        \n",
    "        # Ask for which position\n",
    "        position = player_choice(board)\n",
    "        \n",
    "        # Place the marker\n",
    "        place_marker(board,player1_marker,position)\n",
    "            \n",
    "        # Check win\n",
    "        if win_check(board, player1_marker):\n",
    "            display_board(board)\n",
    "            print('Congratulations! You have won the game!')\n",
    "            game_on = False\n",
    "        else:\n",
    "            if full_board_check(board):\n",
    "                display_board(board)\n",
    "                print('The game is a draw!')\n",
    "                break\n",
    "            else:\n",
    "                turn = 'Player 2'\n",
    "\n",
    "        # Player2's turn.\n",
    "        \n",
    "            # Display board\n",
    "            display_board(board)\n",
    "            \n",
    "            # Ask for which position \n",
    "            position = player_choice(board)\n",
    "            \n",
    "            # Place the marker\n",
    "            place_marker(board,player2_marker,position)\n",
    "            \n",
    "            # Check win\n",
    "            if win_check(board, player1_marker):\n",
    "                display_board(board)\n",
    "                print('Congratulations! You have won the game!')\n",
    "                game_on = False\n",
    "            else:\n",
    "                if full_board_check(board):\n",
    "                    display_board(board)\n",
    "                    print('The game is a draw!')\n",
    "                    break\n",
    "                else:\n",
    "                    turn = 'Player 1'\n",
    "            \n",
    "    # Ask if they want to play again\n",
    "    if not replay():\n",
    "        print('Thanks for playing!')\n",
    "        break"
   ]
  }
 ],
 "metadata": {
  "kernelspec": {
   "display_name": "Python 3",
   "language": "python",
   "name": "python3"
  },
  "language_info": {
   "codemirror_mode": {
    "name": "ipython",
    "version": 3
   },
   "file_extension": ".py",
   "mimetype": "text/x-python",
   "name": "python",
   "nbconvert_exporter": "python",
   "pygments_lexer": "ipython3",
   "version": "3.7.3"
  }
 },
 "nbformat": 4,
 "nbformat_minor": 1
}
