{
 "cells": [
  {
   "cell_type": "markdown",
   "metadata": {},
   "source": [
    "## **Credit Card Validator** "
   ]
  },
  {
   "cell_type": "code",
   "execution_count": null,
   "metadata": {},
   "outputs": [],
   "source": [
    "asking = True\n",
    "\n",
    "while asking:\n",
    "    \n",
    "    card_num_str = input('Pls, enter your card number: ')\n",
    "    \n",
    "    while True:\n",
    "        if len(card_num_str) != 16:\n",
    "            print('Pls, make sure to enter the right number! You need 16 digits! ')\n",
    "            card_num_str = input('Pls, enter your card number: ')\n",
    "        else:\n",
    "            break\n",
    "    \n",
    "    lst= list(card_num_str)\n",
    "\n",
    "    for i in range(len(lst)):\n",
    "        lst[i] = int(lst[i])\n",
    "\n",
    "    #Take the 15 first digits\n",
    "    new_lst = lst[0:-1]\n",
    "\n",
    "    #Starting with the first digit, multiply every second digit by 2\n",
    "    new_lst = [num*2 if i%2==0 else num for i,num in enumerate(lst)]\n",
    "\n",
    "    #Everty two digit number should be added to get a one digit number\n",
    "    for index,num in enumerate(new_lst):\n",
    "        if num >= 10:\n",
    "            num = sum(int(digit) for digit in str(num))\n",
    "            new_lst[index] = num\n",
    "\n",
    "    #Add all these numbers together \n",
    "    add_them_up = sum(new_lst)\n",
    "\n",
    "    #Add the result to the check digit (the 16th digit)\n",
    "    result = add_them_up + lst[-1]\n",
    "\n",
    "    #If the result is a multiple of 10, the card is valid\n",
    "    if result % 10 == 0:\n",
    "        print('The credit card is valid')\n",
    "        ask_again = input('Would you like to test another card? Enter yes or no ')\n",
    "        if ask_again[0].lower() == 'y':\n",
    "            asking = True\n",
    "        elif ask_again[0].lower() == 'n':\n",
    "            asking = False\n",
    "            print('Thx for using our platform!')\n",
    "        else:\n",
    "            while True:\n",
    "                print('Pls, enter y or n')\n",
    "                ask_again = input('Would you like to test another card? Enter yes or no ')\n",
    "                if ask_again[0].lower() == 'y':\n",
    "                    asking = True\n",
    "                    break\n",
    "                elif ask_again[0].lower() == 'n':\n",
    "                    asking = False\n",
    "                    print('Thx for using our platform!')\n",
    "                    break   \n",
    "    else:\n",
    "        print('This credit card is not valid! ')"
   ]
  }
 ],
 "metadata": {
  "kernelspec": {
   "display_name": "Python 3",
   "language": "python",
   "name": "python3"
  },
  "language_info": {
   "codemirror_mode": {
    "name": "ipython",
    "version": 3
   },
   "file_extension": ".py",
   "mimetype": "text/x-python",
   "name": "python",
   "nbconvert_exporter": "python",
   "pygments_lexer": "ipython3",
   "version": "3.7.3"
  }
 },
 "nbformat": 4,
 "nbformat_minor": 2
}
