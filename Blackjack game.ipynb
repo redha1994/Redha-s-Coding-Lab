{
 "cells": [
  {
   "cell_type": "markdown",
   "metadata": {
    "collapsed": true
   },
   "source": [
    "# BLACKJACK\n"
   ]
  },
  {
   "cell_type": "code",
   "execution_count": 2,
   "metadata": {},
   "outputs": [],
   "source": [
    "import random\n",
    "\n",
    "suits = ('Hearts', 'Diamonds', 'Spades', 'Clubs')\n",
    "ranks = ('Two', 'Three', 'Four', 'Five', 'Six', 'Seven', 'Eight', 'Nine', 'Ten', 'Jack', 'Queen', 'King', 'Ace')\n",
    "values = {'Two':2, 'Three':3, 'Four':4, 'Five':5, 'Six':6, 'Seven':7, 'Eight':8, 'Nine':9, 'Ten':10, 'Jack':10,\n",
    "         'Queen':10, 'King':10, 'Ace':11}\n",
    "\n",
    "playing = True"
   ]
  },
  {
   "cell_type": "markdown",
   "metadata": {},
   "source": [
    "**Step 1: Create a Card Class**<br>"
   ]
  },
  {
   "cell_type": "code",
   "execution_count": 3,
   "metadata": {},
   "outputs": [],
   "source": [
    "#This class allows to create a single card with its suit and tank\n",
    "class Card():\n",
    "    \n",
    "    def __init__(self,rank,suit):\n",
    "        \n",
    "        self.rank=rank\n",
    "        self.suit=suit\n",
    "    \n",
    "    def __str__(self):\n",
    "        return f'{self.suit} of {self.rank}'"
   ]
  },
  {
   "cell_type": "markdown",
   "metadata": {},
   "source": [
    "**Step 2: Create a Deck Class**<br>"
   ]
  },
  {
   "cell_type": "code",
   "execution_count": 4,
   "metadata": {},
   "outputs": [],
   "source": [
    "class Deck():\n",
    "    \n",
    "    #To get the deck of 52 cards\n",
    "    def __init__(self):\n",
    "        self.deck = []  # start with an empty list\n",
    "        for suit in suits:\n",
    "            for rank in ranks:\n",
    "                self.deck.append(Card(suit,rank))\n",
    "                \n",
    "    #Print out the deck of cards\n",
    "    def __str__(self):\n",
    "        deck_of_card = ''\n",
    "        for card in self.deck:\n",
    "            deck_of_card += '\\n'+card.__str__()\n",
    "        return 'The deck is:'+deck_of_card\n",
    "    \n",
    "    #Shuffle the deck of cards\n",
    "    def shuffle(self):\n",
    "        random.shuffle(self.deck)\n",
    "    \n",
    "    #To deal a single_card\n",
    "    def deal(self):\n",
    "        single_card = self.deck.pop()\n",
    "        return single_card"
   ]
  },
  {
   "cell_type": "markdown",
   "metadata": {},
   "source": [
    "**Step 3 Create a Hand Class**<br>"
   ]
  },
  {
   "cell_type": "code",
   "execution_count": 5,
   "metadata": {},
   "outputs": [],
   "source": [
    "class Hand:\n",
    "    def __init__(self):\n",
    "        self.cards = []  # start with an empty list as we did in the Deck class\n",
    "        self.value = 0   # start with zero value\n",
    "        self.aces = 0    # add an attribute to keep track of aces\n",
    "    #To add cards to get the player's or dealer's hand\n",
    "    def add_card(self,card):\n",
    "        self.cards.append(card)\n",
    "        self.value += values[card.suit]\n",
    "    \n",
    "        #To track aces\n",
    "        if card == 'Ace':\n",
    "            self.aces += 1\n",
    "            \n",
    "    def adjust_for_ace(self):\n",
    "        \n",
    "        while self.value < 21 and self.aces > 0:\n",
    "            self.value -= 10\n",
    "            self.aces -+ 1"
   ]
  },
  {
   "cell_type": "markdown",
   "metadata": {},
   "source": [
    "**Step 4: Create a Chips Class**<br>"
   ]
  },
  {
   "cell_type": "code",
   "execution_count": 6,
   "metadata": {},
   "outputs": [],
   "source": [
    "class Chips:\n",
    "    \n",
    "    def __init__(self):\n",
    "        self.total = 100  # This can be set to a default value or supplied by a user input\n",
    "        self.bet = 0\n",
    "        \n",
    "    def win_bet(self):\n",
    "        self.total += self.bet\n",
    "    \n",
    "    def lose_bet(self):\n",
    "        self.total -= self.bet"
   ]
  },
  {
   "cell_type": "markdown",
   "metadata": {},
   "source": [
    "**Step 5: Function for taking bets**<br>"
   ]
  },
  {
   "cell_type": "code",
   "execution_count": 7,
   "metadata": {},
   "outputs": [],
   "source": [
    "def take_bet(chips):\n",
    "    \n",
    "    while True:\n",
    "\n",
    "        try:\n",
    "            chips.bet = int(input('How many chips would you like to bet? ')) \n",
    "        except:\n",
    "            print('Pls, provide an integer!')\n",
    "        else:\n",
    "            if chips.bet > chips.total:\n",
    "                print(\"You don't have enough chips! You have: {}\".format(chips.total))\n",
    "            else:\n",
    "                break"
   ]
  },
  {
   "cell_type": "markdown",
   "metadata": {},
   "source": [
    "**Step 7: Function for taking hits**<br>"
   ]
  },
  {
   "cell_type": "code",
   "execution_count": 8,
   "metadata": {},
   "outputs": [],
   "source": [
    "#Allows to give an extra card from the deck a the player or the dealer\n",
    "def hit(deck,hand):\n",
    "    \n",
    "    #To get a single card from the deck\n",
    "    single_card = deck.deal()\n",
    "    \n",
    "    #We'd like to add it to the hand\n",
    "    hand.add_card(single_card)\n",
    "    \n",
    "    #Check for aces\n",
    "    hand.adjust_for_ace()\n",
    "    "
   ]
  },
  {
   "cell_type": "markdown",
   "metadata": {},
   "source": [
    "**Step 8: Function prompting the Player to Hit or Stand**<br>"
   ]
  },
  {
   "cell_type": "code",
   "execution_count": 9,
   "metadata": {},
   "outputs": [],
   "source": [
    "def hit_or_stand(deck,hand):\n",
    "    global playing  # to control an upcoming while loop\n",
    "    \n",
    "    while True:\n",
    "        \n",
    "    #Ask if the player wants to hit\n",
    "        x = input('Would you like to hit or stand? h/s ')\n",
    "\n",
    "        if x[0].lower() == 'h':\n",
    "            hit(deck,hand)\n",
    "        #If he wants to stand\n",
    "        elif x[0].lower() == 's':\n",
    "            playing = False\n",
    "        \n",
    "        break"
   ]
  },
  {
   "cell_type": "markdown",
   "metadata": {},
   "source": [
    "**Step 9: Functions to display cards**<br>"
   ]
  },
  {
   "cell_type": "code",
   "execution_count": 10,
   "metadata": {},
   "outputs": [],
   "source": [
    "def show_some(player,dealer):\n",
    "    \n",
    "    #For dealers hand:\n",
    "    print('\\nDealers Hand:')\n",
    "    print('First card hidden!')\n",
    "    print(dealers_hand.cards[1])\n",
    "    \n",
    "    #For players hand\n",
    "    print('\\nPlayers hand:')\n",
    "    for card in players_hand.cards:\n",
    "        print(card)\n",
    "        \n",
    "def show_all(player,dealer):\n",
    "    \n",
    "    #For dealers hand\n",
    "    print('\\nDealers hand:')\n",
    "    for card in dealers_hand.cards:\n",
    "        print(card)\n",
    "    \n",
    "    #For players hand\n",
    "    print('\\nPlayers hand:')\n",
    "    for card in players_hand.cards:\n",
    "        print(card)"
   ]
  },
  {
   "cell_type": "markdown",
   "metadata": {},
   "source": [
    "**Step 10: Functions to handle end of game scenarios**<br>\n",
    "Remember to pass player's hand, dealer's hand and chips as needed."
   ]
  },
  {
   "cell_type": "code",
   "execution_count": 11,
   "metadata": {},
   "outputs": [],
   "source": [
    "def player_busts(player,dealer,chips):\n",
    "    #Dealer wins\n",
    "    print('Player busts!')\n",
    "    chips.lose_bet()\n",
    "\n",
    "def player_wins(player,dealer,chips):\n",
    "    print('Player wins!')\n",
    "    chips.win_bet()\n",
    "\n",
    "def dealer_busts(player,dealer,chips):\n",
    "    print('Dealer busts!')\n",
    "    chips.win_bet()\n",
    "    \n",
    "def dealer_wins(player,dealer,chips):\n",
    "    print('Dealer wins!')\n",
    "    chips.lose_bet()\n",
    "    \n",
    "def push(player,dealer):\n",
    "    print('Dealer and Player tie --> PUSH!')"
   ]
  },
  {
   "cell_type": "code",
   "execution_count": null,
   "metadata": {},
   "outputs": [
    {
     "name": "stdout",
     "output_type": "stream",
     "text": [
      "\n",
      "Welcome to BlackJack\n"
     ]
    }
   ],
   "source": [
    "while True:\n",
    "    # Print an opening statement\n",
    "    print('\\nWelcome to BlackJack')\n",
    "    \n",
    "    # Create & shuffle the deck, deal two cards to each player\n",
    "    deck = Deck()\n",
    "    deck.shuffle()\n",
    "    \n",
    "    #Deal two cards to player\n",
    "    players_hand = Hand()\n",
    "    players_hand.add_card(deck.deal())\n",
    "    players_hand.add_card(deck.deal())\n",
    "    \n",
    "    #Deal two card to dealer\n",
    "    dealers_hand = Hand()\n",
    "    dealers_hand.add_card(deck.deal())\n",
    "    dealers_hand.add_card(deck.deal())\n",
    "    \n",
    "    # Set up the Player's chips\n",
    "    players_chips = Chips()\n",
    "\n",
    "    # Prompt the Player for their bet\n",
    "    take_bet(players_chips)\n",
    "    \n",
    "    # Show cards (but keep one dealer card hidden)\n",
    "    show_some(players_hand,dealers_hand)\n",
    "    \n",
    "    while playing:  # recall this variable from our hit_or_stand function\n",
    "        \n",
    "        # Prompt for Player to Hit or Stand\n",
    "        hit_or_stand(deck,players_hand)\n",
    "        \n",
    "        # Show cards (but keep one dealer card hidden)\n",
    "        show_some(players_hand,dealers_hand)\n",
    "        \n",
    "        # If player's hand exceeds 21, run player_busts() and break out of loop\n",
    "        if players_hand.value > 21:\n",
    "            player_busts(players_hand,dealers_hand,players_chips)\n",
    "\n",
    "            break\n",
    "\n",
    "    # If Player hasn't busted, play Dealer's hand until Dealer reaches 17\n",
    "    if players_hand.value <= 21:\n",
    "        \n",
    "        while dealers_hand.value < players_hand.value:\n",
    "            hit(deck,dealers_hand)\n",
    "    \n",
    "        # Show all cards\n",
    "        show_all(players_hand,dealers_hand)\n",
    "        \n",
    "        # Run different winning scenarios\n",
    "        if players_hand.value > dealers_hand.value:\n",
    "            player_wins(players_hand,dealers_hand,players_chips)\n",
    "        elif players_hand.value < dealers_hand.value:\n",
    "            dealer_wins(players_hand,dealers_hand,players_chips)\n",
    "        elif dealers_hand.value > 21:\n",
    "            dealer_busts(players_hand,dealers_hand,players_chips)\n",
    "        else:\n",
    "            push(players_hand,dealers_hand)\n",
    "    \n",
    "    # Inform Player of their chips total \n",
    "    print('You total chips are: {}'.format(players_chips.total))\n",
    "    \n",
    "    # Ask to play again\n",
    "    new_game = input('Would you like to play again ? y/n ')\n",
    "    \n",
    "    if new_game[0].lower() == 'y':\n",
    "        playing = True\n",
    "    else:\n",
    "        print('Thx for playing!')\n",
    "        break"
   ]
  }
 ],
 "metadata": {
  "kernelspec": {
   "display_name": "Python 3",
   "language": "python",
   "name": "python3"
  },
  "language_info": {
   "codemirror_mode": {
    "name": "ipython",
    "version": 3
   },
   "file_extension": ".py",
   "mimetype": "text/x-python",
   "name": "python",
   "nbconvert_exporter": "python",
   "pygments_lexer": "ipython3",
   "version": "3.7.3"
  }
 },
 "nbformat": 4,
 "nbformat_minor": 1
}
